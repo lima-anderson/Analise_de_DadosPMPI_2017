{
  "nbformat": 4,
  "nbformat_minor": 0,
  "metadata": {
    "colab": {
      "name": "Despesas de Pagamento Princesa Isabel 2017",
      "provenance": [],
      "collapsed_sections": []
    },
    "kernelspec": {
      "name": "python3",
      "display_name": "Python 3"
    }
  },
  "cells": [
    {
      "cell_type": "code",
      "metadata": {
        "id": "wyStE5UEUxpL"
      },
      "source": [
        "import pandas as pd\n",
        "import numpy as np\n",
        "import collections\n",
        "import matplotlib.pyplot as plt"
      ],
      "execution_count": null,
      "outputs": []
    },
    {
      "cell_type": "code",
      "metadata": {
        "id": "lsjDELxQU_X-"
      },
      "source": [
        "df = pd.read_csv('/content/DespesasPagamentos2017.csv', encoding='latin-1', sep=';')"
      ],
      "execution_count": null,
      "outputs": []
    },
    {
      "cell_type": "code",
      "metadata": {
        "id": "QK1LQvK2pztU"
      },
      "source": [
        "df = df.drop(columns=['Parcela', 'Licitação', 'Competência', 'Conta', 'Número da Transação'])"
      ],
      "execution_count": null,
      "outputs": []
    },
    {
      "cell_type": "code",
      "metadata": {
        "id": "W1U87ln0pjqE"
      },
      "source": [
        "def valorPuro(x):\n",
        "  p = x.split(' ')\n",
        "  res = p[1].replace('.', '')\n",
        "  res = res.replace(',', '.')\n",
        "  return res\n",
        "\n",
        "df['Valor'] = df['Valor'].apply(valorPuro).astype(float)\n",
        "df['Retenção'] = df['Retenção'].apply(valorPuro).astype(float)\n",
        "df['Valor Líquido'] = df['Valor Líquido'].apply(valorPuro).astype(float)\n",
        "\n",
        "df['Data'] = df['Data'].astype('datetime64[ns]')"
      ],
      "execution_count": null,
      "outputs": []
    },
    {
      "cell_type": "markdown",
      "metadata": {
        "id": "Ojfng-cvfTdA"
      },
      "source": [
        "#**Processos Administrativos**"
      ]
    },
    {
      "cell_type": "code",
      "metadata": {
        "colab": {
          "base_uri": "https://localhost:8080/",
          "height": 332
        },
        "id": "SLhfqQ_xjDl_",
        "outputId": "5fff445f-a313-4fc8-9ad3-22eb2e524db0"
      },
      "source": [
        "modalidade = df.Modalidade.value_counts()\n",
        "\n",
        "def percent(x):\n",
        "  todo = modalidade.Total.sum()\n",
        "  p = (100 * int(x) )/ todo\n",
        "  return round(p, 2)\n",
        "\n",
        "\n",
        "modalidade = pd.DataFrame(df.Modalidade.value_counts()).reset_index()\n",
        "modalidade.columns = ['Modalidade','Total']\n",
        "\n",
        "modalidade['Porcentagem'] = modalidade.Total.apply(percent).apply( lambda x: f'{str(x)}%')\n",
        "modalidade"
      ],
      "execution_count": null,
      "outputs": [
        {
          "output_type": "execute_result",
          "data": {
            "text/html": [
              "<div>\n",
              "<style scoped>\n",
              "    .dataframe tbody tr th:only-of-type {\n",
              "        vertical-align: middle;\n",
              "    }\n",
              "\n",
              "    .dataframe tbody tr th {\n",
              "        vertical-align: top;\n",
              "    }\n",
              "\n",
              "    .dataframe thead th {\n",
              "        text-align: right;\n",
              "    }\n",
              "</style>\n",
              "<table border=\"1\" class=\"dataframe\">\n",
              "  <thead>\n",
              "    <tr style=\"text-align: right;\">\n",
              "      <th></th>\n",
              "      <th>Modalidade</th>\n",
              "      <th>Total</th>\n",
              "      <th>Porcentagem</th>\n",
              "    </tr>\n",
              "  </thead>\n",
              "  <tbody>\n",
              "    <tr>\n",
              "      <th>0</th>\n",
              "      <td>9 - Sem Licitação</td>\n",
              "      <td>6349</td>\n",
              "      <td>57.47%</td>\n",
              "    </tr>\n",
              "    <tr>\n",
              "      <th>1</th>\n",
              "      <td>6 - Dispensa por Valor</td>\n",
              "      <td>4187</td>\n",
              "      <td>37.9%</td>\n",
              "    </tr>\n",
              "    <tr>\n",
              "      <th>2</th>\n",
              "      <td>11 - Pregão Presencial</td>\n",
              "      <td>256</td>\n",
              "      <td>2.32%</td>\n",
              "    </tr>\n",
              "    <tr>\n",
              "      <th>3</th>\n",
              "      <td>7 - Dispensa por Outros Motivos</td>\n",
              "      <td>88</td>\n",
              "      <td>0.8%</td>\n",
              "    </tr>\n",
              "    <tr>\n",
              "      <th>4</th>\n",
              "      <td>2 - Tomada de Preço</td>\n",
              "      <td>68</td>\n",
              "      <td>0.62%</td>\n",
              "    </tr>\n",
              "    <tr>\n",
              "      <th>5</th>\n",
              "      <td>8 - Inexigível</td>\n",
              "      <td>65</td>\n",
              "      <td>0.59%</td>\n",
              "    </tr>\n",
              "    <tr>\n",
              "      <th>6</th>\n",
              "      <td>0 - Pregão (Eletrônico e Presencial)</td>\n",
              "      <td>22</td>\n",
              "      <td>0.2%</td>\n",
              "    </tr>\n",
              "    <tr>\n",
              "      <th>7</th>\n",
              "      <td>13 - Chamada Pública</td>\n",
              "      <td>10</td>\n",
              "      <td>0.09%</td>\n",
              "    </tr>\n",
              "    <tr>\n",
              "      <th>8</th>\n",
              "      <td>12 - Adesão a Registro de Preço</td>\n",
              "      <td>3</td>\n",
              "      <td>0.03%</td>\n",
              "    </tr>\n",
              "  </tbody>\n",
              "</table>\n",
              "</div>"
            ],
            "text/plain": [
              "                             Modalidade  Total Porcentagem\n",
              "0                     9 - Sem Licitação   6349      57.47%\n",
              "1                6 - Dispensa por Valor   4187       37.9%\n",
              "2                11 - Pregão Presencial    256       2.32%\n",
              "3       7 - Dispensa por Outros Motivos     88        0.8%\n",
              "4                   2 - Tomada de Preço     68       0.62%\n",
              "5                        8 - Inexigível     65       0.59%\n",
              "6  0 - Pregão (Eletrônico e Presencial)     22        0.2%\n",
              "7                  13 - Chamada Pública     10       0.09%\n",
              "8       12 - Adesão a Registro de Preço      3       0.03%"
            ]
          },
          "metadata": {
            "tags": []
          },
          "execution_count": 612
        }
      ]
    },
    {
      "cell_type": "code",
      "metadata": {
        "colab": {
          "base_uri": "https://localhost:8080/",
          "height": 786
        },
        "id": "H5Z_oNwojiiT",
        "outputId": "add796c4-9323-428d-ad22-dea815c40436"
      },
      "source": [
        "modalidade.plot(kind='bar', x='Modalidade', y='Total', legend=None, title='Modalidades dos Processos Administrativos', figsize=(12,10s))\n",
        "plt.show()"
      ],
      "execution_count": null,
      "outputs": [
        {
          "output_type": "display_data",
          "data": {
            "image/png": "[encoded data removed]",
            "text/plain": [
              "<Figure size 864x720 with 1 Axes>"
            ]
          },
          "metadata": {
            "tags": [],
            "needs_background": "light"
          }
        }
      ]
    },
    {
      "cell_type": "markdown",
      "metadata": {
        "id": "P_itkpj5xKoA"
      },
      "source": [
        "#**Fornecedores que mais ganharam na modalidade sem licitação**"
      ]
    },
    {
      "cell_type": "code",
      "metadata": {
        "colab": {
          "base_uri": "https://localhost:8080/",
          "height": 206
        },
        "id": "5fKqTiCivz5_",
        "outputId": "22512a42-cd50-43d9-936a-277c905fe6e6"
      },
      "source": [
        "modalidade9 = pd.DataFrame(df[df['Modalidade'] == '9 - Sem Licitação'])\n",
        "modalidade9\n",
        "modalidade9 = df.groupby('Fornecedor')\n",
        "modalidade9['Fornecedor'].count()\n",
        "x = modalidade9['Valor'].sum()\n",
        "\n",
        "modalidade9 = pd.DataFrame(x).reset_index()\n",
        "modalidade9.sort_values('Valor', ascending=False).head()"
      ],
      "execution_count": null,
      "outputs": [
        {
          "output_type": "execute_result",
          "data": {
            "text/html": [
              "<div>\n",
              "<style scoped>\n",
              "    .dataframe tbody tr th:only-of-type {\n",
              "        vertical-align: middle;\n",
              "    }\n",
              "\n",
              "    .dataframe tbody tr th {\n",
              "        vertical-align: top;\n",
              "    }\n",
              "\n",
              "    .dataframe thead th {\n",
              "        text-align: right;\n",
              "    }\n",
              "</style>\n",
              "<table border=\"1\" class=\"dataframe\">\n",
              "  <thead>\n",
              "    <tr style=\"text-align: right;\">\n",
              "      <th></th>\n",
              "      <th>Fornecedor</th>\n",
              "      <th>Valor</th>\n",
              "    </tr>\n",
              "  </thead>\n",
              "  <tbody>\n",
              "    <tr>\n",
              "      <th>51</th>\n",
              "      <td>6 - SME FUNDAMENTAL FUNDEB 60% EFETIVOS</td>\n",
              "      <td>3242665.61</td>\n",
              "    </tr>\n",
              "    <tr>\n",
              "      <th>18</th>\n",
              "      <td>24 - SME FUNDAMENTAL FUNDEB 40%</td>\n",
              "      <td>1566272.65</td>\n",
              "    </tr>\n",
              "    <tr>\n",
              "      <th>1019</th>\n",
              "      <td>I.P.M - INST.PRE.SERV.MUNICIPAIS</td>\n",
              "      <td>1521526.02</td>\n",
              "    </tr>\n",
              "    <tr>\n",
              "      <th>62</th>\n",
              "      <td>9 - SEC. MUN. DE INFRA ESTRUTURA EFETIVOS</td>\n",
              "      <td>1142285.31</td>\n",
              "    </tr>\n",
              "    <tr>\n",
              "      <th>856</th>\n",
              "      <td>FOLHA DE PAGAMENTO</td>\n",
              "      <td>1134963.00</td>\n",
              "    </tr>\n",
              "  </tbody>\n",
              "</table>\n",
              "</div>"
            ],
            "text/plain": [
              "                                     Fornecedor       Valor\n",
              "51      6 - SME FUNDAMENTAL FUNDEB 60% EFETIVOS  3242665.61\n",
              "18              24 - SME FUNDAMENTAL FUNDEB 40%  1566272.65\n",
              "1019           I.P.M - INST.PRE.SERV.MUNICIPAIS  1521526.02\n",
              "62    9 - SEC. MUN. DE INFRA ESTRUTURA EFETIVOS  1142285.31\n",
              "856                          FOLHA DE PAGAMENTO  1134963.00"
            ]
          },
          "metadata": {
            "tags": []
          },
          "execution_count": 602
        }
      ]
    },
    {
      "cell_type": "markdown",
      "metadata": {
        "id": "EIMb3n0qxoeB"
      },
      "source": [
        "#**Fornecedores que mais ganharam na modalidade dispensa por valor**"
      ]
    },
    {
      "cell_type": "code",
      "metadata": {
        "colab": {
          "base_uri": "https://localhost:8080/",
          "height": 206
        },
        "id": "6syGxw0MxdAa",
        "outputId": "5e50912c-1705-4594-fde1-62e48184cbf1"
      },
      "source": [
        "modalidade6 = pd.DataFrame(df[df['Modalidade'] == '6 - Dispensa por Valor'])\n",
        "modalidade6\n",
        "modalidade6 = df.groupby('Fornecedor')\n",
        "modalidade6['Fornecedor'].count()\n",
        "x = modalidade6['Valor'].sum()\n",
        "\n",
        "modalidade6 = pd.DataFrame(x).reset_index()\n",
        "modalidade6.sort_values('Valor', ascending=False).head()"
      ],
      "execution_count": null,
      "outputs": [
        {
          "output_type": "execute_result",
          "data": {
            "text/html": [
              "<div>\n",
              "<style scoped>\n",
              "    .dataframe tbody tr th:only-of-type {\n",
              "        vertical-align: middle;\n",
              "    }\n",
              "\n",
              "    .dataframe tbody tr th {\n",
              "        vertical-align: top;\n",
              "    }\n",
              "\n",
              "    .dataframe thead th {\n",
              "        text-align: right;\n",
              "    }\n",
              "</style>\n",
              "<table border=\"1\" class=\"dataframe\">\n",
              "  <thead>\n",
              "    <tr style=\"text-align: right;\">\n",
              "      <th></th>\n",
              "      <th>Fornecedor</th>\n",
              "      <th>Valor</th>\n",
              "    </tr>\n",
              "  </thead>\n",
              "  <tbody>\n",
              "    <tr>\n",
              "      <th>51</th>\n",
              "      <td>6 - SME FUNDAMENTAL FUNDEB 60% EFETIVOS</td>\n",
              "      <td>3242665.61</td>\n",
              "    </tr>\n",
              "    <tr>\n",
              "      <th>18</th>\n",
              "      <td>24 - SME FUNDAMENTAL FUNDEB 40%</td>\n",
              "      <td>1566272.65</td>\n",
              "    </tr>\n",
              "    <tr>\n",
              "      <th>1019</th>\n",
              "      <td>I.P.M - INST.PRE.SERV.MUNICIPAIS</td>\n",
              "      <td>1521526.02</td>\n",
              "    </tr>\n",
              "    <tr>\n",
              "      <th>62</th>\n",
              "      <td>9 - SEC. MUN. DE INFRA ESTRUTURA EFETIVOS</td>\n",
              "      <td>1142285.31</td>\n",
              "    </tr>\n",
              "    <tr>\n",
              "      <th>856</th>\n",
              "      <td>FOLHA DE PAGAMENTO</td>\n",
              "      <td>1134963.00</td>\n",
              "    </tr>\n",
              "  </tbody>\n",
              "</table>\n",
              "</div>"
            ],
            "text/plain": [
              "                                     Fornecedor       Valor\n",
              "51      6 - SME FUNDAMENTAL FUNDEB 60% EFETIVOS  3242665.61\n",
              "18              24 - SME FUNDAMENTAL FUNDEB 40%  1566272.65\n",
              "1019           I.P.M - INST.PRE.SERV.MUNICIPAIS  1521526.02\n",
              "62    9 - SEC. MUN. DE INFRA ESTRUTURA EFETIVOS  1142285.31\n",
              "856                          FOLHA DE PAGAMENTO  1134963.00"
            ]
          },
          "metadata": {
            "tags": []
          },
          "execution_count": 607
        }
      ]
    },
    {
      "cell_type": "markdown",
      "metadata": {
        "id": "CIN4bACRYSHn"
      },
      "source": [
        "#**Tendência dos gastos ao longo de 2017**"
      ]
    },
    {
      "cell_type": "code",
      "metadata": {
        "id": "Ft2hF2yFwilc",
        "colab": {
          "base_uri": "https://localhost:8080/",
          "height": 553
        },
        "outputId": "6677b074-3a4b-49a3-acd3-950a19c12ac8"
      },
      "source": [
        "valor_janeiro = mes_janeiro['Valor'].sum()\n",
        "valor_fevereiro = mes_fevereiro['Valor'].sum()\n",
        "valor_marco = mes_marco['Valor'].sum()\n",
        "valor_janeiro = mes_abril['Valor'].sum()\n",
        "valor_maio = mes_maio['Valor'].sum()\n",
        "valor_junho = mes_junho['Valor'].sum()\n",
        "valor_julho = mes_julho['Valor'].sum()\n",
        "valor_agosto = mes_agosto['Valor'].sum()\n",
        "valor_setembro = mes_setembro['Valor'].sum()\n",
        "valor_outubro = mes_outubro['Valor'].sum()\n",
        "valor_novembro = mes_novembro['Valor'].sum()\n",
        "valor_dezembro = mes_dezembro['Valor'].sum()\n",
        "\n",
        "pagamentos = [valor_janeiro, valor_fevereiro, valor_marco, valor_janeiro, valor_maio, valor_junho, valor_julho, valor_agosto, valor_setembro, valor_outubro, valor_novembro, valor_dezembro]\n",
        "meses = ['Janeiro', 'Fevereiro', 'Março', 'Abril', 'Maio', 'Junho', 'Julho', 'Agosto', 'Setembro', 'Outubro', 'Novembro', 'Dezembro']\n",
        "\n",
        "plt.figure(1, figsize=(15, 9))\n",
        "plt.plot (meses, pagamentos, label='Pagamentos')\n",
        "plt.title('Pagamentos por Meses')\n",
        "plt.grid(True)\n",
        "plt.show()"
      ],
      "execution_count": null,
      "outputs": [
        {
          "output_type": "display_data",
          "data": {
            "image/png": "[encoded data removed]",
            "text/plain": [
              "<Figure size 1080x648 with 1 Axes>"
            ]
          },
          "metadata": {
            "tags": [],
            "needs_background": "light"
          }
        }
      ]
    },
    {
      "cell_type": "markdown",
      "metadata": {
        "id": "3aiQ0uPeYAAF"
      },
      "source": [
        "#**Disperção dos valores gastos ao longo de 2017**"
      ]
    },
    {
      "cell_type": "code",
      "metadata": {
        "id": "xsvD1NzUt3QW",
        "colab": {
          "base_uri": "https://localhost:8080/",
          "height": 553
        },
        "outputId": "2a3fd1ad-7a7e-449b-869c-cdebc4e5edcb"
      },
      "source": [
        "valor = df['Valor']\n",
        "data =  df['Data'].sort_values()\n",
        "\n",
        "plt.figure(1, figsize=(15, 9))\n",
        "plt.scatter (data, valor)\n",
        "plt.ylabel('mil')\n",
        "plt.title('valores pagos em 2017')\n",
        "plt.grid(True)\n",
        "plt.show()"
      ],
      "execution_count": null,
      "outputs": [
        {
          "output_type": "display_data",
          "data": {
            "image/png": "[encoded data removed]",
            "text/plain": [
              "<Figure size 1080x648 with 1 Axes>"
            ]
          },
          "metadata": {
            "tags": [],
            "needs_background": "light"
          }
        }
      ]
    },
    {
      "cell_type": "markdown",
      "metadata": {
        "id": "RzmyidZZb1Ew"
      },
      "source": [
        "##**Fonte dos Recursos**"
      ]
    },
    {
      "cell_type": "code",
      "metadata": {
        "colab": {
          "base_uri": "https://localhost:8080/"
        },
        "id": "-htC6zgVoeAC",
        "outputId": "78998ffd-3543-4d13-c161-cb9966589a01"
      },
      "source": [
        "df1['Fonte Recurso'].value_counts()"
      ],
      "execution_count": null,
      "outputs": [
        {
          "output_type": "execute_result",
          "data": {
            "text/plain": [
              "110101 - Recursos Ordinários                                                                  3487\n",
              "110301 - Gastos com Saúde 15% LC 141                                                          3292\n",
              "311301 - Média e Alta Complexidade Ambulatorial e Hospitalar                                  1352\n",
              "110201 - Gasto com Educação 25% art. 212 CF/1988                                              1325\n",
              "311101 - Piso de Atenção Básica Fixo                                                           749\n",
              "410107 - CRAS - Centro de Referência em Assistência Social                                      98\n",
              "220104 - Programa Nacional Alimentação Escolar                                                  82\n",
              "210201 - FUNDEB 40% - Demais Gastos                                                             68\n",
              "311799 - Outros Programas SUS                                                                   64\n",
              "410109 - SCFV - Serviços de Convivência e Fortalecimento de Vínculos                            61\n",
              "210101 - FUNDEB 60% - Remuneração dos Profissionais do Magistério                               60\n",
              "311402 - Vigilância Sanitária                                                                   59\n",
              "410108 - CREAS - Centro de Referência Especializado em Ação Social                              52\n",
              "410106 - IGDSUAS - Índice de Gestão Descentralizada do Sistema Único de Asssitência Social      45\n",
              "231102 - Convênio Educação Corrente - Estado                                                    38\n",
              "311702 - Centro Apoio Psicossocial                                                              35\n",
              "410199 - Outros Financiamentos do FNAS                                                          33\n",
              "410105 - IGD / PBF - Índice de Gestão Descentralizada                                           23\n",
              "220101 - Quota do Salário Educação                                                              23\n",
              "311303 - Serviços de Atendimento Móvel de Urgência                                              22\n",
              "311201 - Saúde da Família                                                                       19\n",
              "311304 - Centro de Especialidades Odontológicas                                                 15\n",
              "220199 - Outros financiamentos FNDE                                                              9\n",
              "311202 - Agentes Comunitários de Saúde                                                           9\n",
              "322101 - Convênio Saúde Capital - União                                                          9\n",
              "311401 - Vigilância Epidemiológica e Ambiental em Saúde                                          6\n",
              "311501 - Componente Básico de Assistência Farmacêutica                                           4\n",
              "220105 - Educação de Jovens e Adultos                                                            3\n",
              "220102 - Programa Dinheiro Direto na Escola                                                      2\n",
              "520201 - Outros Convênios Capital - União                                                        2\n",
              "311205 - Compensação de Especificidades Regionais                                                1\n",
              "311207 - Núcleo de Apoio a Saúde da Família                                                      1\n",
              "Name: Fonte Recurso, dtype: int64"
            ]
          },
          "metadata": {
            "tags": []
          },
          "execution_count": 587
        }
      ]
    },
    {
      "cell_type": "markdown",
      "metadata": {
        "id": "ChnBH_pubo5H"
      },
      "source": [
        "##**Elemento da Despesa:**"
      ]
    },
    {
      "cell_type": "code",
      "metadata": {
        "colab": {
          "base_uri": "https://localhost:8080/"
        },
        "id": "vp9JUYMW2emB",
        "outputId": "c07f150f-963d-4cd4-eedb-903266e8d686"
      },
      "source": [
        "df['Elemento Despesa'].value_counts()\n"
      ],
      "execution_count": null,
      "outputs": [
        {
          "output_type": "execute_result",
          "data": {
            "text/plain": [
              "36  Outros Serviços de Terceiros - Pessoa Física              5329\n",
              "39  Outros Serviços de Terceiros - Pessoa Jurídica            1908\n",
              "30  Material de Consumo                                       1370\n",
              "48  Outros Auxílios Financeiros a Pessoas Físicas              844\n",
              "11  Vencimentos e Vantagens Fixas - Pessoal Civil              557\n",
              "14  Diárias - Civil                                            343\n",
              "13  Obrigações Patronais                                       150\n",
              "47  Obrigações Tributárias e Contributivas                     131\n",
              "91  Sentenças Judiciais                                        115\n",
              "52  Equipamentos e Material Permanente                          79\n",
              "71  Principal da Dívida Contratual Resgatado                    61\n",
              "31  Premiações Culturais, Artísticas, Desportivas e Outras      52\n",
              "04  Contratação por Tempo Determinado                           29\n",
              "41  Contribuições                                               26\n",
              "93  Indenizações e Restituições                                 17\n",
              "51  Obras e Instalações                                         12\n",
              "33  Passagens e Despesas de Locomoção                           11\n",
              "35  Serviços de Consultoria                                      7\n",
              "32  MATERIAL, BEM OU SERVIÇO PARA DISTRIBUIÇÃO GRATUITA          5\n",
              "08  Outros Benefícios Assistenciais                              1\n",
              "61  Aquisição de Imóveis                                         1\n",
              "Name: Elemento Despesa, dtype: int64"
            ]
          },
          "metadata": {
            "tags": []
          },
          "execution_count": 592
        }
      ]
    },
    {
      "cell_type": "markdown",
      "metadata": {
        "id": "0c-dqkXV2Slu"
      },
      "source": [
        "#**Outros Auxílios Financeiros a Pessoas Físicas**"
      ]
    },
    {
      "cell_type": "markdown",
      "metadata": {
        "id": "Tw19P_ztVN4v"
      },
      "source": [
        "###**Pagamentos individuais**"
      ]
    },
    {
      "cell_type": "code",
      "metadata": {
        "colab": {
          "base_uri": "https://localhost:8080/",
          "height": 397
        },
        "id": "o2z_PDVrtrhU",
        "outputId": "e2d8eae2-6cdd-4788-f259-9abd100653d5"
      },
      "source": [
        "df[df['Elemento Despesa'] == '48  Outros Auxílios Financeiros a Pessoas Físicas'].sort_values(by='Valor', ascending=False).head()"
      ],
      "execution_count": null,
      "outputs": [
        {
          "output_type": "execute_result",
          "data": {
            "text/html": [
              "<div>\n",
              "<style scoped>\n",
              "    .dataframe tbody tr th:only-of-type {\n",
              "        vertical-align: middle;\n",
              "    }\n",
              "\n",
              "    .dataframe tbody tr th {\n",
              "        vertical-align: top;\n",
              "    }\n",
              "\n",
              "    .dataframe thead th {\n",
              "        text-align: right;\n",
              "    }\n",
              "</style>\n",
              "<table border=\"1\" class=\"dataframe\">\n",
              "  <thead>\n",
              "    <tr style=\"text-align: right;\">\n",
              "      <th></th>\n",
              "      <th>Data</th>\n",
              "      <th>Fonte Recurso</th>\n",
              "      <th>Histórico</th>\n",
              "      <th>Modalidade</th>\n",
              "      <th>Fornecedor</th>\n",
              "      <th>Tipo Transação</th>\n",
              "      <th>Valor</th>\n",
              "      <th>Retenção</th>\n",
              "      <th>Valor Líquido</th>\n",
              "      <th>Elemento Despesa</th>\n",
              "    </tr>\n",
              "  </thead>\n",
              "  <tbody>\n",
              "    <tr>\n",
              "      <th>4146</th>\n",
              "      <td>2017-08-30</td>\n",
              "      <td>110301 - Gastos com Saúde 15% LC 141</td>\n",
              "      <td>QUITAÇÃO TOTAL DESTE EMPENHO</td>\n",
              "      <td>11 - Pregão Presencial</td>\n",
              "      <td>ANTONIO PEDRO DE SIQUEIRA</td>\n",
              "      <td>OUTROS</td>\n",
              "      <td>36121.1</td>\n",
              "      <td>0.0</td>\n",
              "      <td>36121.1</td>\n",
              "      <td>48  Outros Auxílios Financeiros a Pessoas Físicas</td>\n",
              "    </tr>\n",
              "    <tr>\n",
              "      <th>6492</th>\n",
              "      <td>2017-11-12</td>\n",
              "      <td>110301 - Gastos com Saúde 15% LC 141</td>\n",
              "      <td>QUITAÇÃO TOTAL DESTE EMPENHO</td>\n",
              "      <td>9 - Sem Licitação</td>\n",
              "      <td>KARINA RODRIGUES DA SILVA</td>\n",
              "      <td>OUTROS</td>\n",
              "      <td>7823.7</td>\n",
              "      <td>0.0</td>\n",
              "      <td>7823.7</td>\n",
              "      <td>48  Outros Auxílios Financeiros a Pessoas Físicas</td>\n",
              "    </tr>\n",
              "    <tr>\n",
              "      <th>3741</th>\n",
              "      <td>2017-02-08</td>\n",
              "      <td>110301 - Gastos com Saúde 15% LC 141</td>\n",
              "      <td>QUITAÇÃO TOTAL DESTE EMPENHO</td>\n",
              "      <td>11 - Pregão Presencial</td>\n",
              "      <td>TEREZINHA CORDEIRO DA SILVA</td>\n",
              "      <td>OUTROS</td>\n",
              "      <td>6481.9</td>\n",
              "      <td>0.0</td>\n",
              "      <td>6481.9</td>\n",
              "      <td>48  Outros Auxílios Financeiros a Pessoas Físicas</td>\n",
              "    </tr>\n",
              "    <tr>\n",
              "      <th>3758</th>\n",
              "      <td>2017-08-29</td>\n",
              "      <td>110301 - Gastos com Saúde 15% LC 141</td>\n",
              "      <td>QUITAÇÃO TOTAL DESTE EMPENHO</td>\n",
              "      <td>6 - Dispensa por Valor</td>\n",
              "      <td>RITA COSTA BARBOSA</td>\n",
              "      <td>OUTROS</td>\n",
              "      <td>5600.0</td>\n",
              "      <td>0.0</td>\n",
              "      <td>5600.0</td>\n",
              "      <td>48  Outros Auxílios Financeiros a Pessoas Físicas</td>\n",
              "    </tr>\n",
              "    <tr>\n",
              "      <th>3738</th>\n",
              "      <td>2017-02-08</td>\n",
              "      <td>110301 - Gastos com Saúde 15% LC 141</td>\n",
              "      <td>QUITAÇÃO TOTAL DESTE EMPENHO</td>\n",
              "      <td>11 - Pregão Presencial</td>\n",
              "      <td>LUZINETE FERNANDES DA SILVA</td>\n",
              "      <td>OUTROS</td>\n",
              "      <td>5195.0</td>\n",
              "      <td>0.0</td>\n",
              "      <td>5195.0</td>\n",
              "      <td>48  Outros Auxílios Financeiros a Pessoas Físicas</td>\n",
              "    </tr>\n",
              "  </tbody>\n",
              "</table>\n",
              "</div>"
            ],
            "text/plain": [
              "           Data  ...                                   Elemento Despesa\n",
              "4146 2017-08-30  ...  48  Outros Auxílios Financeiros a Pessoas Físicas\n",
              "6492 2017-11-12  ...  48  Outros Auxílios Financeiros a Pessoas Físicas\n",
              "3741 2017-02-08  ...  48  Outros Auxílios Financeiros a Pessoas Físicas\n",
              "3758 2017-08-29  ...  48  Outros Auxílios Financeiros a Pessoas Físicas\n",
              "3738 2017-02-08  ...  48  Outros Auxílios Financeiros a Pessoas Físicas\n",
              "\n",
              "[5 rows x 10 columns]"
            ]
          },
          "metadata": {
            "tags": []
          },
          "execution_count": 593
        }
      ]
    },
    {
      "cell_type": "markdown",
      "metadata": {
        "id": "JI4tASeMVDAN"
      },
      "source": [
        "###**Somatório dos valores pagos a cada fornecedor**\n",
        "... do elemento despesa 'Outros Auxílios Financeiros a Pessoas Físicas'"
      ]
    },
    {
      "cell_type": "code",
      "metadata": {
        "colab": {
          "base_uri": "https://localhost:8080/",
          "height": 206
        },
        "id": "gX66N9j1IxOa",
        "outputId": "888cdf28-7e80-43df-c31c-c0d9692f6a0f"
      },
      "source": [
        "ElementoDespesa = pd.DataFrame(df[df['Elemento Despesa'] == '48  Outros Auxílios Financeiros a Pessoas Físicas'])\n",
        "\n",
        "ElementoDespesa = df.groupby('Fornecedor')\n",
        "ElementoDespesa['Fornecedor'].count()\n",
        "x = ElementoDespesa['Valor'].sum()\n",
        "\n",
        "ElementoDespesa = pd.DataFrame(x).reset_index()\n",
        "ElementoDespesa.sort_values('Valor', ascending=False).head()"
      ],
      "execution_count": null,
      "outputs": [
        {
          "output_type": "execute_result",
          "data": {
            "text/html": [
              "<div>\n",
              "<style scoped>\n",
              "    .dataframe tbody tr th:only-of-type {\n",
              "        vertical-align: middle;\n",
              "    }\n",
              "\n",
              "    .dataframe tbody tr th {\n",
              "        vertical-align: top;\n",
              "    }\n",
              "\n",
              "    .dataframe thead th {\n",
              "        text-align: right;\n",
              "    }\n",
              "</style>\n",
              "<table border=\"1\" class=\"dataframe\">\n",
              "  <thead>\n",
              "    <tr style=\"text-align: right;\">\n",
              "      <th></th>\n",
              "      <th>Fornecedor</th>\n",
              "      <th>Valor</th>\n",
              "    </tr>\n",
              "  </thead>\n",
              "  <tbody>\n",
              "    <tr>\n",
              "      <th>51</th>\n",
              "      <td>6 - SME FUNDAMENTAL FUNDEB 60% EFETIVOS</td>\n",
              "      <td>3242665.61</td>\n",
              "    </tr>\n",
              "    <tr>\n",
              "      <th>18</th>\n",
              "      <td>24 - SME FUNDAMENTAL FUNDEB 40%</td>\n",
              "      <td>1566272.65</td>\n",
              "    </tr>\n",
              "    <tr>\n",
              "      <th>1019</th>\n",
              "      <td>I.P.M - INST.PRE.SERV.MUNICIPAIS</td>\n",
              "      <td>1521526.02</td>\n",
              "    </tr>\n",
              "    <tr>\n",
              "      <th>62</th>\n",
              "      <td>9 - SEC. MUN. DE INFRA ESTRUTURA EFETIVOS</td>\n",
              "      <td>1142285.31</td>\n",
              "    </tr>\n",
              "    <tr>\n",
              "      <th>856</th>\n",
              "      <td>FOLHA DE PAGAMENTO</td>\n",
              "      <td>1134963.00</td>\n",
              "    </tr>\n",
              "  </tbody>\n",
              "</table>\n",
              "</div>"
            ],
            "text/plain": [
              "                                     Fornecedor       Valor\n",
              "51      6 - SME FUNDAMENTAL FUNDEB 60% EFETIVOS  3242665.61\n",
              "18              24 - SME FUNDAMENTAL FUNDEB 40%  1566272.65\n",
              "1019           I.P.M - INST.PRE.SERV.MUNICIPAIS  1521526.02\n",
              "62    9 - SEC. MUN. DE INFRA ESTRUTURA EFETIVOS  1142285.31\n",
              "856                          FOLHA DE PAGAMENTO  1134963.00"
            ]
          },
          "metadata": {
            "tags": []
          },
          "execution_count": 596
        }
      ]
    },
    {
      "cell_type": "markdown",
      "metadata": {
        "id": "T_gDIxl5ozoG"
      },
      "source": [
        "#**Premiações Culturais, Artísticas, Desportivas e Outras**\n",
        "\n",
        "... do elemento despesa 'Premiações Culturais, Artísticas, Desportivas e Outras'"
      ]
    },
    {
      "cell_type": "markdown",
      "metadata": {
        "id": "CK2XrpZFIiec"
      },
      "source": [
        "###**Dez Pessoas que mais ganharam com premiação:**"
      ]
    },
    {
      "cell_type": "code",
      "metadata": {
        "colab": {
          "base_uri": "https://localhost:8080/",
          "height": 397
        },
        "id": "9WS6lBkpH7ab",
        "outputId": "1fce7e63-8906-4ead-c13e-ce50531674f9"
      },
      "source": [
        "df[df['Elemento Despesa'] == '31  Premiações Culturais, Artísticas, Desportivas e Outras' ].nlargest(10,'Valor').head()"
      ],
      "execution_count": null,
      "outputs": [
        {
          "output_type": "execute_result",
          "data": {
            "text/html": [
              "<div>\n",
              "<style scoped>\n",
              "    .dataframe tbody tr th:only-of-type {\n",
              "        vertical-align: middle;\n",
              "    }\n",
              "\n",
              "    .dataframe tbody tr th {\n",
              "        vertical-align: top;\n",
              "    }\n",
              "\n",
              "    .dataframe thead th {\n",
              "        text-align: right;\n",
              "    }\n",
              "</style>\n",
              "<table border=\"1\" class=\"dataframe\">\n",
              "  <thead>\n",
              "    <tr style=\"text-align: right;\">\n",
              "      <th></th>\n",
              "      <th>Data</th>\n",
              "      <th>Fonte Recurso</th>\n",
              "      <th>Histórico</th>\n",
              "      <th>Modalidade</th>\n",
              "      <th>Fornecedor</th>\n",
              "      <th>Tipo Transação</th>\n",
              "      <th>Valor</th>\n",
              "      <th>Retenção</th>\n",
              "      <th>Valor Líquido</th>\n",
              "      <th>Elemento Despesa</th>\n",
              "    </tr>\n",
              "  </thead>\n",
              "  <tbody>\n",
              "    <tr>\n",
              "      <th>7135</th>\n",
              "      <td>2017-02-22</td>\n",
              "      <td>110101 - Recursos Ordinários</td>\n",
              "      <td>QUITAÇÃO TOTAL DESTE EMPENHO</td>\n",
              "      <td>6 - Dispensa por Valor</td>\n",
              "      <td>ALBERTO COSMO PATRIOTA</td>\n",
              "      <td>CHEQUE</td>\n",
              "      <td>4000.0</td>\n",
              "      <td>0.0</td>\n",
              "      <td>4000.0</td>\n",
              "      <td>31  Premiações Culturais, Artísticas, Desporti...</td>\n",
              "    </tr>\n",
              "    <tr>\n",
              "      <th>7141</th>\n",
              "      <td>2017-02-22</td>\n",
              "      <td>110101 - Recursos Ordinários</td>\n",
              "      <td>QUITAÇÃO TOTAL DESTE EMPENHO</td>\n",
              "      <td>6 - Dispensa por Valor</td>\n",
              "      <td>FRANCISCO HELIO COSTA MIRA</td>\n",
              "      <td>CHEQUE</td>\n",
              "      <td>2000.0</td>\n",
              "      <td>0.0</td>\n",
              "      <td>2000.0</td>\n",
              "      <td>31  Premiações Culturais, Artísticas, Desporti...</td>\n",
              "    </tr>\n",
              "    <tr>\n",
              "      <th>10533</th>\n",
              "      <td>2017-11-12</td>\n",
              "      <td>110101 - Recursos Ordinários</td>\n",
              "      <td>QUITAÇÃO TOTAL DESTE EMPENHO</td>\n",
              "      <td>6 - Dispensa por Valor</td>\n",
              "      <td>CLAUDEMIR DA COSTA</td>\n",
              "      <td>CHEQUE</td>\n",
              "      <td>1600.0</td>\n",
              "      <td>0.0</td>\n",
              "      <td>1600.0</td>\n",
              "      <td>31  Premiações Culturais, Artísticas, Desporti...</td>\n",
              "    </tr>\n",
              "    <tr>\n",
              "      <th>7118</th>\n",
              "      <td>2017-02-22</td>\n",
              "      <td>110101 - Recursos Ordinários</td>\n",
              "      <td>QUITAÇÃO TOTAL DESTE EMPENHO</td>\n",
              "      <td>6 - Dispensa por Valor</td>\n",
              "      <td>JACKSON RODRIGO DOS SANTOS SILVA</td>\n",
              "      <td>CHEQUE</td>\n",
              "      <td>1500.0</td>\n",
              "      <td>0.0</td>\n",
              "      <td>1500.0</td>\n",
              "      <td>31  Premiações Culturais, Artísticas, Desporti...</td>\n",
              "    </tr>\n",
              "    <tr>\n",
              "      <th>7134</th>\n",
              "      <td>2017-02-22</td>\n",
              "      <td>110101 - Recursos Ordinários</td>\n",
              "      <td>QUITAÇÃO TOTAL DESTE EMPENHO</td>\n",
              "      <td>6 - Dispensa por Valor</td>\n",
              "      <td>JOSÉ DENNYS FERREIRA ESTEVAM</td>\n",
              "      <td>CHEQUE</td>\n",
              "      <td>1500.0</td>\n",
              "      <td>0.0</td>\n",
              "      <td>1500.0</td>\n",
              "      <td>31  Premiações Culturais, Artísticas, Desporti...</td>\n",
              "    </tr>\n",
              "  </tbody>\n",
              "</table>\n",
              "</div>"
            ],
            "text/plain": [
              "            Data  ...                                   Elemento Despesa\n",
              "7135  2017-02-22  ...  31  Premiações Culturais, Artísticas, Desporti...\n",
              "7141  2017-02-22  ...  31  Premiações Culturais, Artísticas, Desporti...\n",
              "10533 2017-11-12  ...  31  Premiações Culturais, Artísticas, Desporti...\n",
              "7118  2017-02-22  ...  31  Premiações Culturais, Artísticas, Desporti...\n",
              "7134  2017-02-22  ...  31  Premiações Culturais, Artísticas, Desporti...\n",
              "\n",
              "[5 rows x 10 columns]"
            ]
          },
          "metadata": {
            "tags": []
          },
          "execution_count": 595
        }
      ]
    }
  ]
}